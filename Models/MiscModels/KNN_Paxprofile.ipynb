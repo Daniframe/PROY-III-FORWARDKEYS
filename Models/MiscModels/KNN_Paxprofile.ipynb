{
 "cells": [
  {
   "cell_type": "code",
   "execution_count": 12,
   "id": "7a55114a",
   "metadata": {},
   "outputs": [],
   "source": [
    "import pandas as pd\n",
    "import matplotlib.pyplot as plt\n",
    "import numpy as np\n",
    "from time import process_time\n",
    "\n",
    "class Summary:\n",
    "    def __init__(self, data, *args):\n",
    "        self._summary = data\n",
    "        \n",
    "    def get_descr(self, colname):\n",
    "        \n",
    "        \"\"\"Returns the description of a specific variable\"\"\"\n",
    "        \n",
    "        return self._summary.loc[self._summary[\"Variable\"] == colname, \"Description\"].values[0]\n",
    "    \n",
    "    def get_type(self, colname):\n",
    "        \n",
    "        \"\"\"Returns the type of a specific variable\"\"\"\n",
    "        \n",
    "        return self._summary.loc[self._summary[\"Variable\"] == colname, \"Type\"].values[0]\n",
    "    \n",
    "    def get_ifna(self, colname):\n",
    "        \n",
    "        \"\"\"Returns whether a specific variable allows NA values\"\"\"\n",
    "        \n",
    "        return self._summary.loc[self._summary[\"Variable\"] == colname, \"Accepts NAs\"].values[0]\n",
    "    \n",
    "    def get_cols_by_type(self, type):\n",
    "        \n",
    "        \"\"\"Returns the names of the variables of a certain type. If you want the output\n",
    "        to be a list, you must transform it to list (list(get_cols_by_type('int')))\"\"\"\n",
    "        \n",
    "        return self._summary.loc[self._summary[\"Type\"] == type, \"Variable\"]\n",
    "\n",
    "nov2014 = pd.read_csv(r\"Nov2014.csv\", sep = \";\")\n",
    "summary = Summary(pd.read_csv(r\"../DATOS/VariablesDescr.csv\", sep = \";\", nrows = 15))"
   ]
  },
  {
   "cell_type": "code",
   "execution_count": 13,
   "id": "9b0257c9",
   "metadata": {},
   "outputs": [
    {
     "name": "stdout",
     "output_type": "stream",
     "text": [
      "<class 'pandas.core.frame.DataFrame'>\n",
      "RangeIndex: 4965848 entries, 0 to 4965847\n",
      "Data columns (total 18 columns):\n",
      " #   Column           Dtype  \n",
      "---  ------           -----  \n",
      " 0   bookingdate      object \n",
      " 1   arrivaldate      object \n",
      " 2   poocountry       object \n",
      " 3   origincity       object \n",
      " 4   destinationcity  object \n",
      " 5   bookingsign      object \n",
      " 6   leadtime         int64  \n",
      " 7   paxprofile       object \n",
      " 8   lengthofstay     int64  \n",
      " 9   losname          object \n",
      " 10  cabinclass       object \n",
      " 11  distchannel      object \n",
      " 12  pax              int64  \n",
      " 13  numpss           int64  \n",
      " 14  numnss           int64  \n",
      " 15  bookingday       object \n",
      " 16  losclean         float64\n",
      " 17  losnameclean     object \n",
      "dtypes: float64(1), int64(5), object(12)\n",
      "memory usage: 682.0+ MB\n"
     ]
    }
   ],
   "source": [
    "nov2014.info()"
   ]
  },
  {
   "cell_type": "code",
   "execution_count": 14,
   "id": "be887199",
   "metadata": {},
   "outputs": [
    {
     "name": "stdout",
     "output_type": "stream",
     "text": [
      "<class 'pandas.core.frame.DataFrame'>\n",
      "RangeIndex: 4965848 entries, 0 to 4965847\n",
      "Data columns (total 18 columns):\n",
      " #   Column           Dtype         \n",
      "---  ------           -----         \n",
      " 0   bookingdate      datetime64[ns]\n",
      " 1   arrivaldate      datetime64[ns]\n",
      " 2   poocountry       category      \n",
      " 3   origincity       category      \n",
      " 4   destinationcity  category      \n",
      " 5   bookingsign      category      \n",
      " 6   leadtime         int64         \n",
      " 7   paxprofile       category      \n",
      " 8   lengthofstay     int64         \n",
      " 9   losname          category      \n",
      " 10  cabinclass       category      \n",
      " 11  distchannel      category      \n",
      " 12  pax              int64         \n",
      " 13  numpss           int64         \n",
      " 14  numnss           int64         \n",
      " 15  bookingday       object        \n",
      " 16  losclean         float64       \n",
      " 17  losnameclean     object        \n",
      "dtypes: category(8), datetime64[ns](2), float64(1), int64(5), object(2)\n",
      "memory usage: 426.3+ MB\n"
     ]
    }
   ],
   "source": [
    "#Change data types accordingly:\n",
    "\n",
    "#Datetime\n",
    "for var in list(summary.get_cols_by_type(\"datetime\")):\n",
    "    nov2014[var] = pd.to_datetime(nov2014[var])\n",
    "\n",
    "\n",
    "#Categories\n",
    "for var in list(summary.get_cols_by_type(\"factor\")):\n",
    "    nov2014[var] = nov2014[var].astype(\"category\")\n",
    "\n",
    "nov2014.info() "
   ]
  },
  {
   "cell_type": "code",
   "execution_count": 15,
   "id": "53189671",
   "metadata": {},
   "outputs": [
    {
     "name": "stdout",
     "output_type": "stream",
     "text": [
      "4318720     LEISURE\n",
      "1767435     LEISURE\n",
      "2475032     LEISURE\n",
      "3291112     LEISURE\n",
      "2857613    BUSINESS\n",
      "4259013       GROUP\n",
      "255049      LEISURE\n",
      "2529925     LEISURE\n",
      "846333      LEISURE\n",
      "2273985       GROUP\n",
      "2623072     LEISURE\n",
      "686521      LEISURE\n",
      "2136708     LEISURE\n",
      "1335734     LEISURE\n",
      "3967423       GROUP\n",
      "4954981     LEISURE\n",
      "4660752     LEISURE\n",
      "2470233    BUSINESS\n",
      "343695      LEISURE\n",
      "3532880     LEISURE\n",
      "Name: paxprofile, dtype: category\n",
      "Categories (4, object): ['BUSINESS', 'GROUP', 'LEISURE', 'VFR']\n"
     ]
    }
   ],
   "source": [
    "from sklearn.neighbors import KNeighborsClassifier\n",
    "from sklearn.metrics import classification_report\n",
    "from sklearn.metrics import confusion_matrix\n",
    "from sklearn.model_selection import cross_val_score\n",
    "from sklearn.metrics import accuracy_score\n",
    "from sklearn.model_selection import train_test_split\n",
    "\n",
    "numnov2014 = nov2014.loc[:, list(summary.get_cols_by_type(\"int\"))]\n",
    "\n",
    "X_train, X_test, Y_train, Y_test = train_test_split(numnov2014, nov2014.paxprofile, test_size = 0.33, random_state = 88)\n",
    "print(Y_test[0:20])\n",
    "scores = {}"
   ]
  },
  {
   "cell_type": "code",
   "execution_count": 18,
   "id": "38d9efae",
   "metadata": {},
   "outputs": [
    {
     "name": "stdout",
     "output_type": "stream",
     "text": [
      "Classifier trained in 24.0 s\n",
      "Predictions made in 246.34375 s\n",
      "[[ 139098     137  208361    1456]\n",
      " [    219   21019    1530     107]\n",
      " [ 209756     850 1015317     104]\n",
      " [   1529      24     205   39018]]\n",
      "Iteración terminada: 277.34375 s\n",
      "Classifier trained in 27.734375 s\n",
      "Predictions made in 272.265625 s\n",
      "[[ 129675      62  217794    1521]\n",
      " [    204   20917    1622     132]\n",
      " [ 145359     375 1080230      63]\n",
      " [    661      12     174   39929]]\n",
      "Iteración terminada: 308.625 s\n",
      "Classifier trained in 30.265625 s\n",
      "Predictions made in 270.328125 s\n",
      "[[ 120896      56  226556    1544]\n",
      " [    123   20839    1766     147]\n",
      " [ 113578     260 1112146      43]\n",
      " [    508       9     185   40074]]\n",
      "Iteración terminada: 308.953125 s\n",
      "Classifier trained in 26.203125 s\n",
      "Predictions made in 292.453125 s\n",
      "[[ 110450      49  236991    1562]\n",
      " [     93   20699    1921     162]\n",
      " [  90851     199 1134944      33]\n",
      " [    476       3     179   40118]]\n",
      "Iteración terminada: 325.625 s\n",
      "Classifier trained in 27.859375 s\n",
      "Predictions made in 289.59375 s\n",
      "[[ 111212      41  236236    1563]\n",
      " [     84   20590    2028     173]\n",
      " [  86340     179 1139488      20]\n",
      " [    471       1     174   40130]]\n",
      "Iteración terminada: 323.84375 s\n",
      "Classifier trained in 28.484375 s\n",
      "Predictions made in 319.4375 s\n",
      "[[ 108427      38  239016    1571]\n",
      " [     83   20519    2087     186]\n",
      " [  79706     161 1146146      14]\n",
      " [    467       2     170   40137]]\n",
      "Iteración terminada: 354.625 s\n",
      "Processed in 1899.015625 s\n"
     ]
    }
   ],
   "source": [
    "t1 = process_time()\n",
    "\n",
    "for k in range(1, 12, 2):\n",
    "    ta = process_time()\n",
    "    knn = KNeighborsClassifier(n_neighbors = k, weights = \"distance\")\n",
    "    knn.fit(X_train, Y_train)\n",
    "    tA = process_time()\n",
    "    print(f\"Classifier trained in {tA-ta} s\")\n",
    "    \n",
    "    pred = knn.predict(X_test)\n",
    "    tB = process_time()\n",
    "    print(f\"Predictions made in {tB-tA} s\")\n",
    "    \n",
    "    conf_matrix = confusion_matrix(Y_test, pred, labels = [\"BUSINESS\", \"GROUP\", \"LEISURE\", \"VFR\"])\n",
    "    print(conf_matrix)\n",
    "    \n",
    "    scores[k] = conf_matrix, accuracy_score(Y_test, pred)\n",
    "    tC = process_time()\n",
    "    print(f\"Iteración terminada: {tC-ta} s\")\n",
    "\n",
    "t2 = process_time()\n",
    "\n",
    "print(f\"Processed in {t2-t1} s\")"
   ]
  },
  {
   "cell_type": "code",
   "execution_count": 46,
   "id": "1372706b",
   "metadata": {},
   "outputs": [
    {
     "data": {
      "image/png": "[encoded data removed]",
      "text/plain": [
       "<Figure size 432x288 with 1 Axes>"
      ]
     },
     "metadata": {
      "needs_background": "light"
     },
     "output_type": "display_data"
    }
   ],
   "source": [
    "import matplotlib.pyplot as plt\n",
    "\n",
    "plt.bar(np.arange(1,12,2), [score[1] for score in scores.values()], width = 1.2, \n",
    "        color = \"lightblue\", edgecolor = \"black\", linewidth = 0.5)\n",
    "plt.xlabel(\"Nº neighbours\")\n",
    "plt.ylabel(\"Accuracy\")\n",
    "plt.title(\"Performance of Nearest Neighbour Classifier\")\n",
    "plt.xticks(np.arange(1, 12, 2), np.arange(1, 12, 2))\n",
    "plt.show()"
   ]
  },
  {
   "cell_type": "code",
   "execution_count": 40,
   "id": "6e9b3339",
   "metadata": {},
   "outputs": [
    {
     "data": {
      "text/plain": [
       "[0.741, 0.775, 0.79, 0.797, 0.8, 0.803]"
      ]
     },
     "execution_count": 40,
     "metadata": {},
     "output_type": "execute_result"
    }
   ],
   "source": [
    "[round(score[1], 3) for score in scores.values()]"
   ]
  },
  {
   "cell_type": "code",
   "execution_count": 47,
   "id": "afe15def",
   "metadata": {},
   "outputs": [
    {
     "data": {
      "text/plain": [
       "[0.7410934076998651,\n",
       " 0.7754486706168802,\n",
       " 0.7896084162735777,\n",
       " 0.7970873786407767,\n",
       " 0.8002660596925668,\n",
       " 0.8025904206306103]"
      ]
     },
     "execution_count": 47,
     "metadata": {},
     "output_type": "execute_result"
    }
   ],
   "source": [
    "[score[1] for score in scores.values()]"
   ]
  },
  {
   "cell_type": "code",
   "execution_count": 49,
   "id": "cd4dd28a",
   "metadata": {},
   "outputs": [
    {
     "data": {
      "text/plain": [
       "array([[ 108427,      38,  239016,    1571],\n",
       "       [     83,   20519,    2087,     186],\n",
       "       [  79706,     161, 1146146,      14],\n",
       "       [    467,       2,     170,   40137]], dtype=int64)"
      ]
     },
     "execution_count": 49,
     "metadata": {},
     "output_type": "execute_result"
    }
   ],
   "source": [
    "scores[11][0]"
   ]
  },
  {
   "cell_type": "code",
   "execution_count": 50,
   "id": "ed3970a5",
   "metadata": {},
   "outputs": [
    {
     "data": {
      "text/plain": [
       "['BUSINESS', 'GROUP', 'LEISURE', 'VFR']"
      ]
     },
     "execution_count": 50,
     "metadata": {},
     "output_type": "execute_result"
    }
   ],
   "source": [
    "[\"BUSINESS\", \"GROUP\", \"LEISURE\", \"VFR\"]"
   ]
  },
  {
   "cell_type": "code",
   "execution_count": 52,
   "id": "17ade715",
   "metadata": {},
   "outputs": [],
   "source": [
    "info = {\"BUSINESS\" : [], \"GROUP\" : [], \"LEISURE\" : [], \"VFR\": []}\n",
    "for i in range(4):\n",
    "    info[[\"BUSINESS\", \"GROUP\", \"LEISURE\", \"VFR\"][i]] = [array[i] for array in scores[11][0]]"
   ]
  },
  {
   "cell_type": "code",
   "execution_count": 59,
   "id": "804f51e8",
   "metadata": {},
   "outputs": [
    {
     "data": {
      "text/html": [
       "<div>\n",
       "<style scoped>\n",
       "    .dataframe tbody tr th:only-of-type {\n",
       "        vertical-align: middle;\n",
       "    }\n",
       "\n",
       "    .dataframe tbody tr th {\n",
       "        vertical-align: top;\n",
       "    }\n",
       "\n",
       "    .dataframe thead th {\n",
       "        text-align: right;\n",
       "    }\n",
       "</style>\n",
       "<table border=\"1\" class=\"dataframe\">\n",
       "  <thead>\n",
       "    <tr style=\"text-align: right;\">\n",
       "      <th></th>\n",
       "      <th>BUSINESS</th>\n",
       "      <th>GROUP</th>\n",
       "      <th>LEISURE</th>\n",
       "      <th>VFR</th>\n",
       "    </tr>\n",
       "  </thead>\n",
       "  <tbody>\n",
       "    <tr>\n",
       "      <th>BUSINESS</th>\n",
       "      <td>108427</td>\n",
       "      <td>38</td>\n",
       "      <td>239016</td>\n",
       "      <td>1571</td>\n",
       "    </tr>\n",
       "    <tr>\n",
       "      <th>GROUP</th>\n",
       "      <td>83</td>\n",
       "      <td>20519</td>\n",
       "      <td>2087</td>\n",
       "      <td>186</td>\n",
       "    </tr>\n",
       "    <tr>\n",
       "      <th>LEISURE</th>\n",
       "      <td>79706</td>\n",
       "      <td>161</td>\n",
       "      <td>1146146</td>\n",
       "      <td>14</td>\n",
       "    </tr>\n",
       "    <tr>\n",
       "      <th>VFR</th>\n",
       "      <td>467</td>\n",
       "      <td>2</td>\n",
       "      <td>170</td>\n",
       "      <td>40137</td>\n",
       "    </tr>\n",
       "  </tbody>\n",
       "</table>\n",
       "</div>"
      ],
      "text/plain": [
       "          BUSINESS  GROUP  LEISURE    VFR\n",
       "BUSINESS    108427     38   239016   1571\n",
       "GROUP           83  20519     2087    186\n",
       "LEISURE      79706    161  1146146     14\n",
       "VFR            467      2      170  40137"
      ]
     },
     "execution_count": 59,
     "metadata": {},
     "output_type": "execute_result"
    }
   ],
   "source": [
    "df = pd.DataFrame(info, index = [\"BUSINESS\", \"GROUP\", \"LEISURE\", \"VFR\"])\n",
    "df"
   ]
  },
  {
   "cell_type": "code",
   "execution_count": 64,
   "id": "fbb7167d",
   "metadata": {},
   "outputs": [
    {
     "data": {
      "text/plain": [
       "0.8025904206306103"
      ]
     },
     "execution_count": 64,
     "metadata": {},
     "output_type": "execute_result"
    }
   ],
   "source": [
    "(df.iloc[0,0] + df.iloc[1,1] + df.iloc[2,2] + df.iloc[3,3]) / df.sum().sum()"
   ]
  },
  {
   "cell_type": "code",
   "execution_count": null,
   "id": "fb86657c",
   "metadata": {},
   "outputs": [],
   "source": []
  }
 ],
 "metadata": {
  "kernelspec": {
   "display_name": "Python 3 (ipykernel)",
   "language": "python",
   "name": "python3"
  },
  "language_info": {
   "codemirror_mode": {
    "name": "ipython",
    "version": 3
   },
   "file_extension": ".py",
   "mimetype": "text/x-python",
   "name": "python",
   "nbconvert_exporter": "python",
   "pygments_lexer": "ipython3",
   "version": "3.8.8"
  }
 },
 "nbformat": 4,
 "nbformat_minor": 5
}
