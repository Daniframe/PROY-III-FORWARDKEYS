{
 "cells": [
  {
   "cell_type": "code",
   "execution_count": 1,
   "metadata": {},
   "outputs": [
    {
     "name": "stderr",
     "output_type": "stream",
     "text": [
      "C:\\Users\\losaa\\Anaconda3\\lib\\site-packages\\pandas\\compat\\_optional.py:138: UserWarning: Pandas requires version '2.7.0' or newer of 'numexpr' (version '2.6.9' currently installed).\n",
      "  warnings.warn(msg, UserWarning)\n"
     ]
    }
   ],
   "source": [
    "import pandas as pd\n",
    "import matplotlib.pyplot as plt\n",
    "import numpy as np\n",
    "from time import process_time\n",
    "nov2015 = pd.read_csv(r\"C:/Users/losaa/Downloads/Escritorio/Estudios/PROYECTO III/PAR-2015-Nov1-Nov28.csv\", sep = \",\")"
   ]
  },
  {
   "cell_type": "code",
   "execution_count": 2,
   "metadata": {},
   "outputs": [],
   "source": [
    "class Summary:\n",
    "    def __init__(self, data, *args):\n",
    "        self._summary = data\n",
    "        \n",
    "    def get_descr(self, colname):\n",
    "        \n",
    "        \"\"\"Returns the description of a specific variable\"\"\"\n",
    "        \n",
    "        return self._summary.loc[self._summary[\"Variable\"] == colname, \"Description\"].values[0]\n",
    "    \n",
    "    def get_type(self, colname):\n",
    "        \n",
    "        \"\"\"Returns the type of a specific variable\"\"\"\n",
    "        \n",
    "        return self._summary.loc[self._summary[\"Variable\"] == colname, \"Type\"].values[0]\n",
    "    \n",
    "    def get_ifna(self, colname):\n",
    "        \n",
    "        \"\"\"Returns whether a specific variable allows NA values\"\"\"\n",
    "        \n",
    "        return self._summary.loc[self._summary[\"Variable\"] == colname, \"Accepts NAs\"].values[0]\n",
    "    \n",
    "    def get_cols_by_type(self, type):\n",
    "        \n",
    "        \"\"\"Returns the names of the variables of a certain type. If you want the output\n",
    "        to be a list, you must transform it to list (list(get_cols_by_type('int')))\"\"\"\n",
    "        \n",
    "        return self._summary.loc[self._summary[\"Type\"] == type, \"Variable\"]"
   ]
  },
  {
   "cell_type": "code",
   "execution_count": 3,
   "metadata": {},
   "outputs": [],
   "source": [
    "summary = Summary(pd.read_csv(r\"C:/Users/losaa/Downloads/Escritorio/Estudios/PROYECTO III/VariablesDescr.csv\", sep = \";\", nrows = 15))"
   ]
  },
  {
   "cell_type": "code",
   "execution_count": 4,
   "metadata": {},
   "outputs": [
    {
     "name": "stdout",
     "output_type": "stream",
     "text": [
      "<class 'pandas.core.frame.DataFrame'>\n",
      "RangeIndex: 5193201 entries, 0 to 5193200\n",
      "Data columns (total 15 columns):\n",
      " #   Column           Dtype         \n",
      "---  ------           -----         \n",
      " 0   bookingdate      datetime64[ns]\n",
      " 1   arrivaldate      datetime64[ns]\n",
      " 2   poocountry       category      \n",
      " 3   origincity       category      \n",
      " 4   destinationcity  category      \n",
      " 5   bookingsign      category      \n",
      " 6   leadtime         int64         \n",
      " 7   paxprofile       category      \n",
      " 8   lengthofstay     int64         \n",
      " 9   losname          category      \n",
      " 10  cabinclass       category      \n",
      " 11  distchannel      category      \n",
      " 12  pax              int64         \n",
      " 13  numpss           int64         \n",
      " 14  numnss           int64         \n",
      "dtypes: category(8), datetime64[ns](2), int64(5)\n",
      "memory usage: 326.9 MB\n"
     ]
    }
   ],
   "source": [
    "for var in list(summary.get_cols_by_type(\"datetime\")):\n",
    "    nov2015[var] = pd.to_datetime(nov2015[var])\n",
    "\n",
    "\n",
    "#Categories\n",
    "for var in list(summary.get_cols_by_type(\"factor\")):\n",
    "    nov2015[var] = nov2015[var].astype(\"category\")\n",
    "\n",
    "nov2015.info() "
   ]
  },
  {
   "cell_type": "code",
   "execution_count": 5,
   "metadata": {},
   "outputs": [],
   "source": [
    "data = {}\n",
    "\n",
    "for cat in np.unique(nov2015.paxprofile):\n",
    "    data[cat] = nov2015.iloc[:,7:8].applymap(lambda x: x == cat).values"
   ]
  },
  {
   "cell_type": "code",
   "execution_count": 6,
   "metadata": {},
   "outputs": [],
   "source": [
    "for columna in data:\n",
    "    nov2015[columna] = data[columna]"
   ]
  },
  {
   "cell_type": "code",
   "execution_count": 7,
   "metadata": {},
   "outputs": [
    {
     "data": {
      "text/html": [
       "<div>\n",
       "<style scoped>\n",
       "    .dataframe tbody tr th:only-of-type {\n",
       "        vertical-align: middle;\n",
       "    }\n",
       "\n",
       "    .dataframe tbody tr th {\n",
       "        vertical-align: top;\n",
       "    }\n",
       "\n",
       "    .dataframe thead th {\n",
       "        text-align: right;\n",
       "    }\n",
       "</style>\n",
       "<table border=\"1\" class=\"dataframe\">\n",
       "  <thead>\n",
       "    <tr style=\"text-align: right;\">\n",
       "      <th></th>\n",
       "      <th>bookingdate</th>\n",
       "      <th>arrivaldate</th>\n",
       "      <th>poocountry</th>\n",
       "      <th>origincity</th>\n",
       "      <th>destinationcity</th>\n",
       "      <th>bookingsign</th>\n",
       "      <th>leadtime</th>\n",
       "      <th>paxprofile</th>\n",
       "      <th>lengthofstay</th>\n",
       "      <th>losname</th>\n",
       "      <th>cabinclass</th>\n",
       "      <th>distchannel</th>\n",
       "      <th>pax</th>\n",
       "      <th>numpss</th>\n",
       "      <th>numnss</th>\n",
       "      <th>BUSINESS</th>\n",
       "      <th>GROUP</th>\n",
       "      <th>LEISURE</th>\n",
       "      <th>VFR</th>\n",
       "    </tr>\n",
       "  </thead>\n",
       "  <tbody>\n",
       "    <tr>\n",
       "      <th>0</th>\n",
       "      <td>2015-11-08</td>\n",
       "      <td>2016-01-05</td>\n",
       "      <td>AR</td>\n",
       "      <td>SAO</td>\n",
       "      <td>PAR</td>\n",
       "      <td>PARTIAL_CANCELLATION</td>\n",
       "      <td>57</td>\n",
       "      <td>LEISURE</td>\n",
       "      <td>-2</td>\n",
       "      <td>DWELLING_TRANSFER</td>\n",
       "      <td>T</td>\n",
       "      <td>OTHER</td>\n",
       "      <td>-1</td>\n",
       "      <td>1</td>\n",
       "      <td>4</td>\n",
       "      <td>False</td>\n",
       "      <td>False</td>\n",
       "      <td>True</td>\n",
       "      <td>False</td>\n",
       "    </tr>\n",
       "    <tr>\n",
       "      <th>1</th>\n",
       "      <td>2015-11-08</td>\n",
       "      <td>2015-11-18</td>\n",
       "      <td>FR</td>\n",
       "      <td>NYC</td>\n",
       "      <td>PAR</td>\n",
       "      <td>NEW_BOOKING</td>\n",
       "      <td>9</td>\n",
       "      <td>BUSINESS</td>\n",
       "      <td>-3</td>\n",
       "      <td>RETURN_HOME</td>\n",
       "      <td>T</td>\n",
       "      <td>OTHER</td>\n",
       "      <td>1</td>\n",
       "      <td>1</td>\n",
       "      <td>0</td>\n",
       "      <td>True</td>\n",
       "      <td>False</td>\n",
       "      <td>False</td>\n",
       "      <td>False</td>\n",
       "    </tr>\n",
       "    <tr>\n",
       "      <th>2</th>\n",
       "      <td>2015-11-08</td>\n",
       "      <td>2016-06-03</td>\n",
       "      <td>FR</td>\n",
       "      <td>YYC</td>\n",
       "      <td>PAR</td>\n",
       "      <td>PARTIAL_CANCELLATION</td>\n",
       "      <td>207</td>\n",
       "      <td>LEISURE</td>\n",
       "      <td>-3</td>\n",
       "      <td>RETURN_HOME</td>\n",
       "      <td>T</td>\n",
       "      <td>OTHER</td>\n",
       "      <td>-3</td>\n",
       "      <td>2</td>\n",
       "      <td>0</td>\n",
       "      <td>False</td>\n",
       "      <td>False</td>\n",
       "      <td>True</td>\n",
       "      <td>False</td>\n",
       "    </tr>\n",
       "    <tr>\n",
       "      <th>3</th>\n",
       "      <td>2015-11-08</td>\n",
       "      <td>2015-11-09</td>\n",
       "      <td>US</td>\n",
       "      <td>MIA</td>\n",
       "      <td>PAR</td>\n",
       "      <td>PARTIAL_ADDITION</td>\n",
       "      <td>0</td>\n",
       "      <td>LEISURE</td>\n",
       "      <td>-4</td>\n",
       "      <td>SHORT_TRANSFER</td>\n",
       "      <td>T</td>\n",
       "      <td>OTHER</td>\n",
       "      <td>1</td>\n",
       "      <td>1</td>\n",
       "      <td>4</td>\n",
       "      <td>False</td>\n",
       "      <td>False</td>\n",
       "      <td>True</td>\n",
       "      <td>False</td>\n",
       "    </tr>\n",
       "    <tr>\n",
       "      <th>4</th>\n",
       "      <td>2015-11-08</td>\n",
       "      <td>2015-11-23</td>\n",
       "      <td>DZ</td>\n",
       "      <td>ALG</td>\n",
       "      <td>PAR</td>\n",
       "      <td>NEW_BOOKING</td>\n",
       "      <td>15</td>\n",
       "      <td>LEISURE</td>\n",
       "      <td>13</td>\n",
       "      <td>STAY</td>\n",
       "      <td>B</td>\n",
       "      <td>OTHER</td>\n",
       "      <td>3</td>\n",
       "      <td>0</td>\n",
       "      <td>1</td>\n",
       "      <td>False</td>\n",
       "      <td>False</td>\n",
       "      <td>True</td>\n",
       "      <td>False</td>\n",
       "    </tr>\n",
       "  </tbody>\n",
       "</table>\n",
       "</div>"
      ],
      "text/plain": [
       "  bookingdate arrivaldate poocountry origincity destinationcity  \\\n",
       "0  2015-11-08  2016-01-05         AR        SAO             PAR   \n",
       "1  2015-11-08  2015-11-18         FR        NYC             PAR   \n",
       "2  2015-11-08  2016-06-03         FR        YYC             PAR   \n",
       "3  2015-11-08  2015-11-09         US        MIA             PAR   \n",
       "4  2015-11-08  2015-11-23         DZ        ALG             PAR   \n",
       "\n",
       "            bookingsign  leadtime paxprofile  lengthofstay            losname  \\\n",
       "0  PARTIAL_CANCELLATION        57    LEISURE            -2  DWELLING_TRANSFER   \n",
       "1           NEW_BOOKING         9   BUSINESS            -3        RETURN_HOME   \n",
       "2  PARTIAL_CANCELLATION       207    LEISURE            -3        RETURN_HOME   \n",
       "3      PARTIAL_ADDITION         0    LEISURE            -4     SHORT_TRANSFER   \n",
       "4           NEW_BOOKING        15    LEISURE            13               STAY   \n",
       "\n",
       "  cabinclass distchannel  pax  numpss  numnss  BUSINESS  GROUP  LEISURE    VFR  \n",
       "0          T       OTHER   -1       1       4     False  False     True  False  \n",
       "1          T       OTHER    1       1       0      True  False    False  False  \n",
       "2          T       OTHER   -3       2       0     False  False     True  False  \n",
       "3          T       OTHER    1       1       4     False  False     True  False  \n",
       "4          B       OTHER    3       0       1     False  False     True  False  "
      ]
     },
     "execution_count": 7,
     "metadata": {},
     "output_type": "execute_result"
    }
   ],
   "source": [
    "nov2015.head()"
   ]
  },
  {
   "cell_type": "code",
   "execution_count": 8,
   "metadata": {},
   "outputs": [],
   "source": [
    "nov2015 = nov2015.loc[((nov2015['bookingdate']) >= '2015-11-13') & ((nov2015['bookingdate']) <= '2015-11-23')]"
   ]
  },
  {
   "cell_type": "code",
   "execution_count": 9,
   "metadata": {},
   "outputs": [],
   "source": [
    "numnov2015 = nov2015.loc[:, list(summary.get_cols_by_type(\"int\"))]\n",
    "boolean = nov2015.iloc[:,15:]"
   ]
  },
  {
   "cell_type": "code",
   "execution_count": 10,
   "metadata": {},
   "outputs": [],
   "source": [
    "for columna in boolean.columns.values:\n",
    "    numnov2015[columna] = boolean[columna]"
   ]
  },
  {
   "cell_type": "code",
   "execution_count": 11,
   "metadata": {},
   "outputs": [],
   "source": [
    "numnov2015['bookingsign'] = nov2015['bookingsign']"
   ]
  },
  {
   "cell_type": "code",
   "execution_count": 12,
   "metadata": {},
   "outputs": [
    {
     "data": {
      "text/html": [
       "<div>\n",
       "<style scoped>\n",
       "    .dataframe tbody tr th:only-of-type {\n",
       "        vertical-align: middle;\n",
       "    }\n",
       "\n",
       "    .dataframe tbody tr th {\n",
       "        vertical-align: top;\n",
       "    }\n",
       "\n",
       "    .dataframe thead th {\n",
       "        text-align: right;\n",
       "    }\n",
       "</style>\n",
       "<table border=\"1\" class=\"dataframe\">\n",
       "  <thead>\n",
       "    <tr style=\"text-align: right;\">\n",
       "      <th></th>\n",
       "      <th>leadtime</th>\n",
       "      <th>lengthofstay</th>\n",
       "      <th>pax</th>\n",
       "      <th>numnss</th>\n",
       "      <th>numpss</th>\n",
       "      <th>BUSINESS</th>\n",
       "      <th>GROUP</th>\n",
       "      <th>LEISURE</th>\n",
       "      <th>VFR</th>\n",
       "      <th>bookingsign</th>\n",
       "    </tr>\n",
       "  </thead>\n",
       "  <tbody>\n",
       "    <tr>\n",
       "      <th>409</th>\n",
       "      <td>35</td>\n",
       "      <td>-2</td>\n",
       "      <td>-1</td>\n",
       "      <td>1</td>\n",
       "      <td>2</td>\n",
       "      <td>False</td>\n",
       "      <td>False</td>\n",
       "      <td>True</td>\n",
       "      <td>False</td>\n",
       "      <td>PARTIAL_CANCELLATION</td>\n",
       "    </tr>\n",
       "    <tr>\n",
       "      <th>410</th>\n",
       "      <td>112</td>\n",
       "      <td>-1</td>\n",
       "      <td>1</td>\n",
       "      <td>0</td>\n",
       "      <td>0</td>\n",
       "      <td>False</td>\n",
       "      <td>False</td>\n",
       "      <td>True</td>\n",
       "      <td>False</td>\n",
       "      <td>NEW_BOOKING</td>\n",
       "    </tr>\n",
       "    <tr>\n",
       "      <th>411</th>\n",
       "      <td>105</td>\n",
       "      <td>-4</td>\n",
       "      <td>-1</td>\n",
       "      <td>1</td>\n",
       "      <td>2</td>\n",
       "      <td>False</td>\n",
       "      <td>False</td>\n",
       "      <td>True</td>\n",
       "      <td>False</td>\n",
       "      <td>FULL_CANCELLATION</td>\n",
       "    </tr>\n",
       "    <tr>\n",
       "      <th>412</th>\n",
       "      <td>12</td>\n",
       "      <td>-3</td>\n",
       "      <td>1</td>\n",
       "      <td>0</td>\n",
       "      <td>0</td>\n",
       "      <td>False</td>\n",
       "      <td>False</td>\n",
       "      <td>True</td>\n",
       "      <td>False</td>\n",
       "      <td>NEW_BOOKING</td>\n",
       "    </tr>\n",
       "    <tr>\n",
       "      <th>413</th>\n",
       "      <td>23</td>\n",
       "      <td>-4</td>\n",
       "      <td>2</td>\n",
       "      <td>5</td>\n",
       "      <td>0</td>\n",
       "      <td>False</td>\n",
       "      <td>False</td>\n",
       "      <td>True</td>\n",
       "      <td>False</td>\n",
       "      <td>PARTIAL_ADDITION</td>\n",
       "    </tr>\n",
       "  </tbody>\n",
       "</table>\n",
       "</div>"
      ],
      "text/plain": [
       "     leadtime  lengthofstay  pax  numnss  numpss  BUSINESS  GROUP  LEISURE  \\\n",
       "409        35            -2   -1       1       2     False  False     True   \n",
       "410       112            -1    1       0       0     False  False     True   \n",
       "411       105            -4   -1       1       2     False  False     True   \n",
       "412        12            -3    1       0       0     False  False     True   \n",
       "413        23            -4    2       5       0     False  False     True   \n",
       "\n",
       "       VFR           bookingsign  \n",
       "409  False  PARTIAL_CANCELLATION  \n",
       "410  False           NEW_BOOKING  \n",
       "411  False     FULL_CANCELLATION  \n",
       "412  False           NEW_BOOKING  \n",
       "413  False      PARTIAL_ADDITION  "
      ]
     },
     "execution_count": 12,
     "metadata": {},
     "output_type": "execute_result"
    }
   ],
   "source": [
    "numnov2015.head()"
   ]
  },
  {
   "cell_type": "code",
   "execution_count": 17,
   "metadata": {},
   "outputs": [],
   "source": [
    "from sklearn.model_selection import train_test_split\n",
    "X_train, X_test, Y_train, Y_test = train_test_split(numnov2015.iloc[:,:-1],numnov2015.bookingsign, test_size = 0.2, random_state = 88)"
   ]
  },
  {
   "cell_type": "code",
   "execution_count": 21,
   "metadata": {},
   "outputs": [],
   "source": [
    "Y_test.to_csv('Y_test.csv', header=False, index=False)"
   ]
  },
  {
   "cell_type": "code",
   "execution_count": 14,
   "metadata": {},
   "outputs": [],
   "source": [
    "X_train = X_train[1:1000]\n",
    "Y_train = Y_train[1:1000]"
   ]
  },
  {
   "cell_type": "code",
   "execution_count": 15,
   "metadata": {},
   "outputs": [
    {
     "name": "stderr",
     "output_type": "stream",
     "text": [
      "C:\\Users\\losaa\\Anaconda3\\lib\\site-packages\\sklearn\\linear_model\\least_angle.py:30: DeprecationWarning: `np.float` is a deprecated alias for the builtin `float`. To silence this warning, use `float` by itself. Doing this will not modify any behavior and is safe. If you specifically wanted the numpy scalar type, use `np.float64` here.\n",
      "Deprecated in NumPy 1.20; for more details and guidance: https://numpy.org/devdocs/release/1.20.0-notes.html#deprecations\n",
      "  method='lar', copy_X=True, eps=np.finfo(np.float).eps,\n",
      "C:\\Users\\losaa\\Anaconda3\\lib\\site-packages\\sklearn\\linear_model\\least_angle.py:167: DeprecationWarning: `np.float` is a deprecated alias for the builtin `float`. To silence this warning, use `float` by itself. Doing this will not modify any behavior and is safe. If you specifically wanted the numpy scalar type, use `np.float64` here.\n",
      "Deprecated in NumPy 1.20; for more details and guidance: https://numpy.org/devdocs/release/1.20.0-notes.html#deprecations\n",
      "  method='lar', copy_X=True, eps=np.finfo(np.float).eps,\n",
      "C:\\Users\\losaa\\Anaconda3\\lib\\site-packages\\sklearn\\linear_model\\least_angle.py:284: DeprecationWarning: `np.float` is a deprecated alias for the builtin `float`. To silence this warning, use `float` by itself. Doing this will not modify any behavior and is safe. If you specifically wanted the numpy scalar type, use `np.float64` here.\n",
      "Deprecated in NumPy 1.20; for more details and guidance: https://numpy.org/devdocs/release/1.20.0-notes.html#deprecations\n",
      "  eps=np.finfo(np.float).eps, copy_Gram=True, verbose=0,\n",
      "C:\\Users\\losaa\\Anaconda3\\lib\\site-packages\\sklearn\\linear_model\\least_angle.py:862: DeprecationWarning: `np.float` is a deprecated alias for the builtin `float`. To silence this warning, use `float` by itself. Doing this will not modify any behavior and is safe. If you specifically wanted the numpy scalar type, use `np.float64` here.\n",
      "Deprecated in NumPy 1.20; for more details and guidance: https://numpy.org/devdocs/release/1.20.0-notes.html#deprecations\n",
      "  eps=np.finfo(np.float).eps, copy_X=True, fit_path=True,\n",
      "C:\\Users\\losaa\\Anaconda3\\lib\\site-packages\\sklearn\\linear_model\\least_angle.py:1101: DeprecationWarning: `np.float` is a deprecated alias for the builtin `float`. To silence this warning, use `float` by itself. Doing this will not modify any behavior and is safe. If you specifically wanted the numpy scalar type, use `np.float64` here.\n",
      "Deprecated in NumPy 1.20; for more details and guidance: https://numpy.org/devdocs/release/1.20.0-notes.html#deprecations\n",
      "  eps=np.finfo(np.float).eps, copy_X=True, fit_path=True,\n",
      "C:\\Users\\losaa\\Anaconda3\\lib\\site-packages\\sklearn\\linear_model\\least_angle.py:1127: DeprecationWarning: `np.float` is a deprecated alias for the builtin `float`. To silence this warning, use `float` by itself. Doing this will not modify any behavior and is safe. If you specifically wanted the numpy scalar type, use `np.float64` here.\n",
      "Deprecated in NumPy 1.20; for more details and guidance: https://numpy.org/devdocs/release/1.20.0-notes.html#deprecations\n",
      "  eps=np.finfo(np.float).eps, positive=False):\n",
      "C:\\Users\\losaa\\Anaconda3\\lib\\site-packages\\sklearn\\linear_model\\least_angle.py:1362: DeprecationWarning: `np.float` is a deprecated alias for the builtin `float`. To silence this warning, use `float` by itself. Doing this will not modify any behavior and is safe. If you specifically wanted the numpy scalar type, use `np.float64` here.\n",
      "Deprecated in NumPy 1.20; for more details and guidance: https://numpy.org/devdocs/release/1.20.0-notes.html#deprecations\n",
      "  max_n_alphas=1000, n_jobs=None, eps=np.finfo(np.float).eps,\n",
      "C:\\Users\\losaa\\Anaconda3\\lib\\site-packages\\sklearn\\linear_model\\least_angle.py:1602: DeprecationWarning: `np.float` is a deprecated alias for the builtin `float`. To silence this warning, use `float` by itself. Doing this will not modify any behavior and is safe. If you specifically wanted the numpy scalar type, use `np.float64` here.\n",
      "Deprecated in NumPy 1.20; for more details and guidance: https://numpy.org/devdocs/release/1.20.0-notes.html#deprecations\n",
      "  max_n_alphas=1000, n_jobs=None, eps=np.finfo(np.float).eps,\n",
      "C:\\Users\\losaa\\Anaconda3\\lib\\site-packages\\sklearn\\linear_model\\least_angle.py:1738: DeprecationWarning: `np.float` is a deprecated alias for the builtin `float`. To silence this warning, use `float` by itself. Doing this will not modify any behavior and is safe. If you specifically wanted the numpy scalar type, use `np.float64` here.\n",
      "Deprecated in NumPy 1.20; for more details and guidance: https://numpy.org/devdocs/release/1.20.0-notes.html#deprecations\n",
      "  eps=np.finfo(np.float).eps, copy_X=True, positive=False):\n"
     ]
    },
    {
     "data": {
      "text/plain": [
       "SVC(C=1.0, cache_size=200, class_weight=None, coef0=0.0,\n",
       "    decision_function_shape='ovr', degree=3, gamma='auto_deprecated',\n",
       "    kernel='linear', max_iter=-1, probability=False, random_state=None,\n",
       "    shrinking=True, tol=0.001, verbose=False)"
      ]
     },
     "execution_count": 15,
     "metadata": {},
     "output_type": "execute_result"
    }
   ],
   "source": [
    "from sklearn.model_selection import cross_val_score\n",
    "import math\n",
    "import pandas as pd\n",
    "from sklearn import svm\n",
    "\n",
    "def plot_accuracy(nombres, nn_list_scores,errorInterval):\n",
    "    pd.DataFrame({\"Tipo\":nombres,\"Error\":nn_list_scores}).set_index(\"Tipo\").plot.bar(yerr=errorInterval,figsize= (9,6),ylim=(0.0,0.5),rot=0)\n",
    "    plt.xticks(rotation=90)\n",
    "    plt.ylim(0,0.15)\n",
    "    plt.show()\n",
    "\n",
    "cv_scores=[]\n",
    "nombres=[]\n",
    "\n",
    "\n",
    "clf = svm.SVC(kernel='linear')\n",
    "clf.fit(X_train,Y_train)\n",
    "\n",
    "#for i in [ 'rbf', 'poly', 'linear']:\n",
    "    #for c in [100]:\n",
    "        \n",
    "        #if i=='poly':\n",
    "            \n",
    "            #for d in [2]:\n",
    "                #print(f' Entro con grado:   {d}')\n",
    "                #clf = svm.SVC(kernel=i, C=c, degree=d)\n",
    "                #clf.fit(X_train,Y_train)\n",
    "                \n",
    "                \n",
    "    \n",
    "        \n",
    "                \n",
    "#errorInterval = [1.96*math.sqrt(x*(1-x)/len(Y)) for x in cv_scores]\n",
    "#print(errorInterval)\n",
    "#plot_accuracy(nombres, cv_scores,errorInterval)"
   ]
  },
  {
   "cell_type": "code",
   "execution_count": 16,
   "metadata": {},
   "outputs": [
    {
     "data": {
      "text/plain": [
       "0.726056432740673"
      ]
     },
     "execution_count": 16,
     "metadata": {},
     "output_type": "execute_result"
    }
   ],
   "source": [
    "prediction = clf.predict(X_test)\n",
    "from sklearn.metrics import accuracy_score\n",
    "accuracy_score(Y_test, prediction)"
   ]
  }
 ],
 "metadata": {
  "kernelspec": {
   "display_name": "Python 3",
   "language": "python",
   "name": "python3"
  },
  "language_info": {
   "codemirror_mode": {
    "name": "ipython",
    "version": 3
   },
   "file_extension": ".py",
   "mimetype": "text/x-python",
   "name": "python",
   "nbconvert_exporter": "python",
   "pygments_lexer": "ipython3",
   "version": "3.7.3"
  }
 },
 "nbformat": 4,
 "nbformat_minor": 2
}
